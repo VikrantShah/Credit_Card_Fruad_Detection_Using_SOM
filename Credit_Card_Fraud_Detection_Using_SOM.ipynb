{
 "cells": [
  {
   "cell_type": "code",
   "execution_count": 1,
   "metadata": {},
   "outputs": [
    {
     "name": "stdout",
     "output_type": "stream",
     "text": [
      "Note: you may need to restart the kernel to use updated packages.\n"
     ]
    },
    {
     "name": "stderr",
     "output_type": "stream",
     "text": [
      "'C:\\Users\\RAJ' is not recognized as an internal or external command,\n",
      "operable program or batch file.\n"
     ]
    }
   ],
   "source": [
    "pip install MiniSom"
   ]
  },
  {
   "cell_type": "markdown",
   "metadata": {},
   "source": [
    "# Importing the libraries"
   ]
  },
  {
   "cell_type": "code",
   "execution_count": 2,
   "metadata": {},
   "outputs": [],
   "source": [
    "import numpy as np\n",
    "import matplotlib.pyplot as plt\n",
    "import pandas as pd"
   ]
  },
  {
   "cell_type": "markdown",
   "metadata": {},
   "source": [
    "# Importing the dataset"
   ]
  },
  {
   "cell_type": "code",
   "execution_count": 3,
   "metadata": {},
   "outputs": [],
   "source": [
    "dataset = pd.read_csv(\"Credit_Card_Applications.csv\")"
   ]
  },
  {
   "cell_type": "code",
   "execution_count": 4,
   "metadata": {},
   "outputs": [],
   "source": [
    "X = dataset.iloc[:, :-1].values\n",
    "y = dataset.iloc[:, -1].values"
   ]
  },
  {
   "cell_type": "code",
   "execution_count": 5,
   "metadata": {},
   "outputs": [
    {
     "name": "stdout",
     "output_type": "stream",
     "text": [
      "[[1.5776156e+07 1.0000000e+00 2.2080000e+01 ... 2.0000000e+00\n",
      "  1.0000000e+02 1.2130000e+03]\n",
      " [1.5739548e+07 0.0000000e+00 2.2670000e+01 ... 2.0000000e+00\n",
      "  1.6000000e+02 1.0000000e+00]\n",
      " [1.5662854e+07 0.0000000e+00 2.9580000e+01 ... 2.0000000e+00\n",
      "  2.8000000e+02 1.0000000e+00]\n",
      " ...\n",
      " [1.5675450e+07 0.0000000e+00 1.8830000e+01 ... 2.0000000e+00\n",
      "  1.0000000e+02 1.0000000e+00]\n",
      " [1.5776494e+07 0.0000000e+00 2.7420000e+01 ... 2.0000000e+00\n",
      "  1.2000000e+02 1.2000000e+01]\n",
      " [1.5592412e+07 1.0000000e+00 4.1000000e+01 ... 1.0000000e+00\n",
      "  5.6000000e+02 1.0000000e+00]]\n"
     ]
    }
   ],
   "source": [
    "print(X)"
   ]
  },
  {
   "cell_type": "code",
   "execution_count": 6,
   "metadata": {},
   "outputs": [
    {
     "name": "stdout",
     "output_type": "stream",
     "text": [
      "[0 0 0 1 1 1 0 1 0 0 1 1 0 1 0 1 1 1 0 1 0 0 0 0 0 1 0 1 1 1 1 0 0 1 0 0 1\n",
      " 1 1 1 1 0 1 0 0 1 0 1 0 1 0 0 0 0 0 1 1 0 1 1 0 0 1 0 1 1 0 0 0 1 0 0 0 1\n",
      " 1 0 0 0 0 1 1 0 0 0 0 1 0 1 1 0 0 0 0 1 0 1 0 0 0 1 0 1 1 1 0 1 1 0 1 0 0\n",
      " 0 0 1 0 1 1 1 1 1 1 0 0 1 1 0 1 0 1 1 1 0 0 0 0 0 0 1 1 1 0 0 0 1 0 1 1 0\n",
      " 0 1 1 0 0 0 1 1 1 0 1 0 0 0 1 1 0 0 0 1 0 0 0 1 0 0 1 0 0 0 1 1 0 0 1 1 1\n",
      " 0 0 0 0 0 0 1 0 0 0 1 1 0 0 0 1 0 1 0 1 1 0 0 0 0 1 1 0 0 0 1 0 0 0 1 1 0\n",
      " 1 0 0 0 0 1 1 1 1 0 0 1 1 1 0 0 0 1 1 1 1 0 0 0 0 1 1 1 0 0 1 0 1 1 1 1 0\n",
      " 0 0 1 0 1 1 0 0 1 0 0 0 1 0 1 1 0 0 0 1 1 0 0 0 0 0 1 1 1 0 0 0 0 1 1 1 0\n",
      " 0 0 1 0 1 0 0 0 0 1 0 1 0 0 0 0 0 1 1 0 0 1 0 1 1 1 1 1 1 1 0 0 0 0 1 1 1\n",
      " 0 0 0 1 0 1 0 0 0 1 1 1 1 1 1 1 0 1 0 1 0 0 0 0 0 1 0 1 1 0 0 0 0 0 1 0 1\n",
      " 1 0 0 0 1 1 1 0 0 1 1 0 0 0 1 1 0 1 1 1 1 0 0 1 1 0 0 0 0 0 0 1 0 0 0 1 1\n",
      " 0 1 0 0 0 1 1 1 0 0 1 0 1 1 1 0 1 0 0 1 0 0 0 1 0 0 1 0 1 0 1 1 0 1 0 0 1\n",
      " 0 1 1 0 0 0 0 0 1 1 0 0 1 1 0 1 0 1 0 1 0 1 1 0 1 0 1 1 1 0 0 0 0 0 1 0 1\n",
      " 0 0 0 1 1 1 1 1 0 1 1 0 0 0 1 1 1 1 1 1 0 1 1 1 1 0 0 0 0 0 0 0 1 0 0 1 1\n",
      " 1 0 1 0 0 1 1 0 1 0 0 0 0 0 0 1 0 1 0 1 1 1 0 0 1 0 0 0 0 0 0 0 1 1 0 0 0\n",
      " 0 0 1 0 1 0 1 0 0 1 1 1 0 0 0 0 0 1 0 1 1 0 0 0 0 0 1 1 1 0 1 0 1 1 0 0 1\n",
      " 0 1 0 0 1 1 0 1 0 1 1 1 1 0 0 1 0 1 1 0 1 0 1 1 0 0 0 1 0 1 1 0 1 0 0 0 0\n",
      " 0 1 0 1 0 0 0 0 0 0 1 0 1 1 0 0 0 0 0 0 1 1 0 0 1 0 0 1 0 0 1 1 0 1 1 0 0\n",
      " 0 0 0 0 1 1 0 1 1 0 0 0 0 1 0 0 1 0 1 1 0 1 1 1]\n"
     ]
    }
   ],
   "source": [
    "print(y)"
   ]
  },
  {
   "cell_type": "markdown",
   "metadata": {},
   "source": [
    "# Feature Scaling"
   ]
  },
  {
   "cell_type": "code",
   "execution_count": 7,
   "metadata": {},
   "outputs": [],
   "source": [
    "from sklearn.preprocessing import MinMaxScaler"
   ]
  },
  {
   "cell_type": "code",
   "execution_count": 8,
   "metadata": {},
   "outputs": [],
   "source": [
    "sc = MinMaxScaler(feature_range = (0, 1))"
   ]
  },
  {
   "cell_type": "code",
   "execution_count": 9,
   "metadata": {},
   "outputs": [
    {
     "name": "stdout",
     "output_type": "stream",
     "text": [
      "[[8.42681467e-01 1.00000000e+00 1.25263158e-01 ... 5.00000000e-01\n",
      "  5.00000000e-02 1.21200000e-02]\n",
      " [6.96090562e-01 0.00000000e+00 1.34135338e-01 ... 5.00000000e-01\n",
      "  8.00000000e-02 0.00000000e+00]\n",
      " [3.88981656e-01 0.00000000e+00 2.38045113e-01 ... 5.00000000e-01\n",
      "  1.40000000e-01 0.00000000e+00]\n",
      " ...\n",
      " [4.39420332e-01 0.00000000e+00 7.63909774e-02 ... 5.00000000e-01\n",
      "  5.00000000e-02 0.00000000e+00]\n",
      " [8.44034934e-01 0.00000000e+00 2.05563910e-01 ... 5.00000000e-01\n",
      "  6.00000000e-02 1.10000000e-04]\n",
      " [1.06907888e-01 1.00000000e+00 4.09774436e-01 ... 0.00000000e+00\n",
      "  2.80000000e-01 0.00000000e+00]]\n"
     ]
    }
   ],
   "source": [
    "X = sc.fit_transform(X)\n",
    "print(X)"
   ]
  },
  {
   "cell_type": "markdown",
   "metadata": {},
   "source": [
    "# Training the SOM"
   ]
  },
  {
   "cell_type": "code",
   "execution_count": 10,
   "metadata": {},
   "outputs": [],
   "source": [
    "from minisom import MiniSom"
   ]
  },
  {
   "cell_type": "code",
   "execution_count": 11,
   "metadata": {},
   "outputs": [],
   "source": [
    "som = MiniSom(x = 10, y = 10, input_len = 15, sigma = 1.0, learning_rate = 0.5)"
   ]
  },
  {
   "cell_type": "code",
   "execution_count": 12,
   "metadata": {},
   "outputs": [],
   "source": [
    "som.random_weights_init(X)"
   ]
  },
  {
   "cell_type": "code",
   "execution_count": 13,
   "metadata": {},
   "outputs": [],
   "source": [
    "som.train_random(data = X, num_iteration = 100)"
   ]
  },
  {
   "cell_type": "markdown",
   "metadata": {},
   "source": [
    "# Visualizing the results"
   ]
  },
  {
   "cell_type": "code",
   "execution_count": 14,
   "metadata": {},
   "outputs": [],
   "source": [
    "from pylab import bone, pcolor, colorbar, plot, show"
   ]
  },
  {
   "cell_type": "code",
   "execution_count": 15,
   "metadata": {
    "scrolled": true
   },
   "outputs": [
    {
     "data": {
      "image/png": "[encoded data removed]",
      "text/plain": [
       "<Figure size 432x288 with 2 Axes>"
      ]
     },
     "metadata": {
      "needs_background": "light"
     },
     "output_type": "display_data"
    }
   ],
   "source": [
    "bone()\n",
    "pcolor(som.distance_map().T)\n",
    "# som.distance_map() will return MID (Mean Interneuron Distance) for all of the winning node\n",
    "# Transpose is taken to make the o/p in the right order for pcolor()\n",
    "\n",
    "colorbar() \n",
    "# colorbar() shows legend\n",
    "\n",
    "markers = ['o', 's'] \n",
    "# 'o' : circle(didn't get approval), 's' : square(got approval)\n",
    "colors = ['r', 'g'] \n",
    "# 'r' : red, 'g' : green\n",
    "\n",
    "# i : indexes of all the customers\n",
    "# x : vectors of the customers at diff. iterations\n",
    "# w[0] : x-cord of winning node\n",
    "# w[1] : y-cord of winning node\n",
    "# Its the coord of lower left of the square\n",
    "# To get it to center we add 0.5\n",
    "for i, x in enumerate(X) :\n",
    "    w = som.winner(x) # gets the winning node\n",
    "    plot(w[0] + 0.5,\n",
    "         w[1] + 0.5, \n",
    "         markers[y[i]], \n",
    "         markeredgecolor = colors[y[i]],\n",
    "         markerfacecolor = 'None',\n",
    "         markersize = 10,\n",
    "         markeredgewidth = 2) \n",
    "show()"
   ]
  },
  {
   "cell_type": "markdown",
   "metadata": {},
   "source": [
    "# Finding the frauds"
   ]
  },
  {
   "cell_type": "code",
   "execution_count": 19,
   "metadata": {},
   "outputs": [],
   "source": [
    "mappings = som.win_map(X)"
   ]
  },
  {
   "cell_type": "code",
   "execution_count": 28,
   "metadata": {
    "scrolled": true
   },
   "outputs": [],
   "source": [
    "frauds = np.concatenate((mappings[(9, 1)], mappings[((9, 2))]), axis = 0)\n",
    "frauds = sc.inverse_transform(frauds)"
   ]
  },
  {
   "cell_type": "code",
   "execution_count": 29,
   "metadata": {},
   "outputs": [
    {
     "name": "stdout",
     "output_type": "stream",
     "text": [
      "[[1.5644446e+07 1.0000000e+00 3.3500000e+01 1.7500000e+00 2.0000000e+00\n",
      "  1.4000000e+01 8.0000000e+00 4.5000000e+00 1.0000000e+00 1.0000000e+00\n",
      "  4.0000000e+00 1.0000000e+00 2.0000000e+00 2.5300000e+02 8.5800000e+02]\n",
      " [1.5585892e+07 1.0000000e+00 4.1420000e+01 5.0000000e+00 2.0000000e+00\n",
      "  1.1000000e+01 8.0000000e+00 5.0000000e+00 1.0000000e+00 1.0000000e+00\n",
      "  6.0000000e+00 1.0000000e+00 2.0000000e+00 4.7000000e+02 1.0000000e+00]\n",
      " [1.5618410e+07 1.0000000e+00 2.3080000e+01 2.5000000e+00 2.0000000e+00\n",
      "  8.0000000e+00 4.0000000e+00 1.0850000e+00 1.0000000e+00 1.0000000e+00\n",
      "  1.1000000e+01 1.0000000e+00 2.0000000e+00 6.0000000e+01 2.1850000e+03]\n",
      " [1.5672432e+07 1.0000000e+00 2.7000000e+01 7.5000000e-01 2.0000000e+00\n",
      "  8.0000000e+00 8.0000000e+00 4.2500000e+00 1.0000000e+00 1.0000000e+00\n",
      "  3.0000000e+00 1.0000000e+00 2.0000000e+00 3.1200000e+02 1.5100000e+02]\n",
      " [1.5583680e+07 1.0000000e+00 2.3080000e+01 1.1500000e+01 2.0000000e+00\n",
      "  9.0000000e+00 8.0000000e+00 2.1250000e+00 1.0000000e+00 1.0000000e+00\n",
      "  1.1000000e+01 1.0000000e+00 2.0000000e+00 2.9000000e+02 2.8500000e+02]\n",
      " [1.5654859e+07 1.0000000e+00 6.4080000e+01 2.0000000e+01 2.0000000e+00\n",
      "  1.4000000e+01 8.0000000e+00 1.7500000e+01 1.0000000e+00 1.0000000e+00\n",
      "  9.0000000e+00 1.0000000e+00 2.0000000e+00 0.0000000e+00 1.0010000e+03]\n",
      " [1.5621423e+07 1.0000000e+00 2.5670000e+01 1.2500000e+01 2.0000000e+00\n",
      "  1.3000000e+01 4.0000000e+00 1.2100000e+00 1.0000000e+00 1.0000000e+00\n",
      "  6.7000000e+01 1.0000000e+00 2.0000000e+00 1.4000000e+02 2.5900000e+02]\n",
      " [1.5566495e+07 1.0000000e+00 4.5000000e+01 8.5000000e+00 2.0000000e+00\n",
      "  1.3000000e+01 8.0000000e+00 1.4000000e+01 1.0000000e+00 1.0000000e+00\n",
      "  1.0000000e+00 1.0000000e+00 2.0000000e+00 8.8000000e+01 2.0010000e+03]\n",
      " [1.5637891e+07 1.0000000e+00 3.9170000e+01 1.7100000e+00 2.0000000e+00\n",
      "  1.4000000e+01 4.0000000e+00 1.2500000e-01 1.0000000e+00 1.0000000e+00\n",
      "  5.0000000e+00 1.0000000e+00 2.0000000e+00 4.8000000e+02 1.0000000e+00]\n",
      " [1.5627190e+07 1.0000000e+00 3.9000000e+01 5.0000000e+00 2.0000000e+00\n",
      "  1.3000000e+01 4.0000000e+00 3.5000000e+00 1.0000000e+00 1.0000000e+00\n",
      "  1.0000000e+01 1.0000000e+00 2.0000000e+00 0.0000000e+00 1.0000000e+00]\n",
      " [1.5568878e+07 1.0000000e+00 3.1570000e+01 4.0000000e+00 2.0000000e+00\n",
      "  1.4000000e+01 4.0000000e+00 5.0000000e+00 1.0000000e+00 1.0000000e+00\n",
      "  3.0000000e+00 1.0000000e+00 2.0000000e+00 2.9000000e+02 2.2800000e+03]\n",
      " [1.5671534e+07 1.0000000e+00 3.2670000e+01 5.5000000e+00 2.0000000e+00\n",
      "  1.1000000e+01 8.0000000e+00 5.5000000e+00 1.0000000e+00 1.0000000e+00\n",
      "  1.2000000e+01 1.0000000e+00 2.0000000e+00 4.0800000e+02 1.0010000e+03]\n",
      " [1.5605276e+07 1.0000000e+00 1.9670000e+01 3.7500000e-01 2.0000000e+00\n",
      "  1.1000000e+01 4.0000000e+00 2.0000000e+00 1.0000000e+00 1.0000000e+00\n",
      "  2.0000000e+00 1.0000000e+00 2.0000000e+00 8.0000000e+01 1.0000000e+00]\n",
      " [1.5605341e+07 1.0000000e+00 4.7670000e+01 2.5000000e+00 2.0000000e+00\n",
      "  7.0000000e+00 5.0000000e+00 2.5000000e+00 1.0000000e+00 1.0000000e+00\n",
      "  1.2000000e+01 1.0000000e+00 2.0000000e+00 4.1000000e+02 2.5110000e+03]\n",
      " [1.5580366e+07 1.0000000e+00 2.9170000e+01 3.5000000e+00 2.0000000e+00\n",
      "  9.0000000e+00 4.0000000e+00 3.5000000e+00 1.0000000e+00 1.0000000e+00\n",
      "  3.0000000e+00 1.0000000e+00 2.0000000e+00 3.2900000e+02 1.0000000e+00]\n",
      " [1.5595010e+07 1.0000000e+00 3.4170000e+01 9.1700000e+00 2.0000000e+00\n",
      "  8.0000000e+00 4.0000000e+00 4.5000000e+00 1.0000000e+00 1.0000000e+00\n",
      "  1.2000000e+01 1.0000000e+00 2.0000000e+00 0.0000000e+00 2.2200000e+02]\n",
      " [1.5583552e+07 1.0000000e+00 2.0500000e+01 2.4150000e+00 2.0000000e+00\n",
      "  8.0000000e+00 4.0000000e+00 2.0000000e+00 1.0000000e+00 1.0000000e+00\n",
      "  1.1000000e+01 1.0000000e+00 2.0000000e+00 2.0000000e+02 3.0010000e+03]\n",
      " [1.5613699e+07 1.0000000e+00 3.7330000e+01 6.5000000e+00 2.0000000e+00\n",
      "  7.0000000e+00 8.0000000e+00 4.2500000e+00 1.0000000e+00 1.0000000e+00\n",
      "  1.2000000e+01 1.0000000e+00 2.0000000e+00 9.3000000e+01 1.0000000e+00]\n",
      " [1.5667460e+07 1.0000000e+00 3.5170000e+01 2.5125000e+01 2.0000000e+00\n",
      "  1.4000000e+01 8.0000000e+00 1.6250000e+00 1.0000000e+00 1.0000000e+00\n",
      "  1.0000000e+00 1.0000000e+00 2.0000000e+00 5.1500000e+02 5.0100000e+02]\n",
      " [1.5569394e+07 1.0000000e+00 5.4330000e+01 6.7500000e+00 2.0000000e+00\n",
      "  8.0000000e+00 8.0000000e+00 2.6250000e+00 1.0000000e+00 1.0000000e+00\n",
      "  1.1000000e+01 1.0000000e+00 2.0000000e+00 0.0000000e+00 2.8500000e+02]\n",
      " [1.5609356e+07 1.0000000e+00 2.0670000e+01 1.2500000e+00 1.0000000e+00\n",
      "  8.0000000e+00 8.0000000e+00 1.3750000e+00 1.0000000e+00 1.0000000e+00\n",
      "  3.0000000e+00 1.0000000e+00 2.0000000e+00 1.4000000e+02 2.1100000e+02]\n",
      " [1.5588123e+07 1.0000000e+00 3.3170000e+01 3.0400000e+00 1.0000000e+00\n",
      "  8.0000000e+00 8.0000000e+00 2.0400000e+00 1.0000000e+00 1.0000000e+00\n",
      "  1.0000000e+00 1.0000000e+00 2.0000000e+00 1.8000000e+02 1.8028000e+04]\n",
      " [1.5775750e+07 1.0000000e+00 2.8250000e+01 5.0400000e+00 1.0000000e+00\n",
      "  8.0000000e+00 5.0000000e+00 1.5000000e+00 1.0000000e+00 1.0000000e+00\n",
      "  8.0000000e+00 1.0000000e+00 2.0000000e+00 1.4400000e+02 8.0000000e+00]\n",
      " [1.5572390e+07 1.0000000e+00 2.7830000e+01 4.0000000e+00 1.0000000e+00\n",
      "  3.0000000e+00 8.0000000e+00 5.7500000e+00 1.0000000e+00 1.0000000e+00\n",
      "  2.0000000e+00 1.0000000e+00 2.0000000e+00 7.5000000e+01 1.0000000e+00]\n",
      " [1.5575243e+07 1.0000000e+00 3.4080000e+01 8.0000000e-02 1.0000000e+00\n",
      "  7.0000000e+00 5.0000000e+00 4.0000000e-02 1.0000000e+00 1.0000000e+00\n",
      "  1.0000000e+00 1.0000000e+00 2.0000000e+00 2.8000000e+02 2.0010000e+03]\n",
      " [1.5690372e+07 1.0000000e+00 2.1000000e+01 3.0000000e+00 1.0000000e+00\n",
      "  2.0000000e+00 4.0000000e+00 1.0850000e+00 1.0000000e+00 1.0000000e+00\n",
      "  8.0000000e+00 1.0000000e+00 2.0000000e+00 1.6000000e+02 2.0000000e+00]\n",
      " [1.5775235e+07 1.0000000e+00 4.3080000e+01 3.7500000e-01 1.0000000e+00\n",
      "  8.0000000e+00 4.0000000e+00 3.7500000e-01 1.0000000e+00 1.0000000e+00\n",
      "  8.0000000e+00 1.0000000e+00 2.0000000e+00 3.0000000e+02 1.6300000e+02]\n",
      " [1.5780088e+07 1.0000000e+00 3.4500000e+01 4.0400000e+00 1.0000000e+00\n",
      "  3.0000000e+00 5.0000000e+00 8.5000000e+00 1.0000000e+00 1.0000000e+00\n",
      "  7.0000000e+00 1.0000000e+00 2.0000000e+00 1.9500000e+02 1.0000000e+00]\n",
      " [1.5663194e+07 1.0000000e+00 2.8000000e+01 2.0000000e+00 2.0000000e+00\n",
      "  4.0000000e+00 8.0000000e+00 4.1650000e+00 1.0000000e+00 1.0000000e+00\n",
      "  2.0000000e+00 1.0000000e+00 2.0000000e+00 1.8100000e+02 1.0000000e+00]\n",
      " [1.5762045e+07 1.0000000e+00 2.1000000e+01 4.7900000e+00 1.0000000e+00\n",
      "  9.0000000e+00 4.0000000e+00 2.2500000e+00 1.0000000e+00 1.0000000e+00\n",
      "  1.0000000e+00 1.0000000e+00 2.0000000e+00 8.0000000e+01 3.0100000e+02]\n",
      " [1.5750476e+07 1.0000000e+00 3.6670000e+01 4.4150000e+00 1.0000000e+00\n",
      "  4.0000000e+00 4.0000000e+00 2.5000000e-01 1.0000000e+00 1.0000000e+00\n",
      "  1.0000000e+01 1.0000000e+00 2.0000000e+00 3.2000000e+02 1.0000000e+00]\n",
      " [1.5631693e+07 1.0000000e+00 3.2250000e+01 1.6500000e-01 1.0000000e+00\n",
      "  8.0000000e+00 8.0000000e+00 3.2500000e+00 1.0000000e+00 1.0000000e+00\n",
      "  1.0000000e+00 1.0000000e+00 2.0000000e+00 4.3200000e+02 8.0010000e+03]\n",
      " [1.5586174e+07 1.0000000e+00 3.0080000e+01 1.0400000e+00 1.0000000e+00\n",
      "  3.0000000e+00 5.0000000e+00 5.0000000e-01 1.0000000e+00 1.0000000e+00\n",
      "  1.0000000e+01 1.0000000e+00 2.0000000e+00 1.3200000e+02 2.9000000e+01]\n",
      " [1.5646563e+07 1.0000000e+00 2.6670000e+01 1.7500000e+00 1.0000000e+00\n",
      "  8.0000000e+00 4.0000000e+00 1.0000000e+00 1.0000000e+00 1.0000000e+00\n",
      "  5.0000000e+00 1.0000000e+00 2.0000000e+00 1.6000000e+02 5.7780000e+03]\n",
      " [1.5789014e+07 1.0000000e+00 2.7580000e+01 2.0400000e+00 1.0000000e+00\n",
      "  6.0000000e+00 4.0000000e+00 2.0000000e+00 1.0000000e+00 1.0000000e+00\n",
      "  3.0000000e+00 1.0000000e+00 2.0000000e+00 3.7000000e+02 5.6100000e+02]\n",
      " [1.5652048e+07 1.0000000e+00 1.3750000e+01 4.0000000e+00 1.0000000e+00\n",
      "  9.0000000e+00 4.0000000e+00 1.7500000e+00 1.0000000e+00 1.0000000e+00\n",
      "  2.0000000e+00 1.0000000e+00 2.0000000e+00 1.2000000e+02 1.0010000e+03]\n",
      " [1.5594651e+07 1.0000000e+00 3.3170000e+01 3.1650000e+00 1.0000000e+00\n",
      "  1.4000000e+01 4.0000000e+00 3.1650000e+00 1.0000000e+00 1.0000000e+00\n",
      "  3.0000000e+00 1.0000000e+00 2.0000000e+00 3.8000000e+02 1.0000000e+00]]\n"
     ]
    }
   ],
   "source": [
    "print(frauds)"
   ]
  },
  {
   "cell_type": "code",
   "execution_count": null,
   "metadata": {},
   "outputs": [],
   "source": []
  }
 ],
 "metadata": {
  "kernelspec": {
   "display_name": "Python 3",
   "language": "python",
   "name": "python3"
  },
  "language_info": {
   "codemirror_mode": {
    "name": "ipython",
    "version": 3
   },
   "file_extension": ".py",
   "mimetype": "text/x-python",
   "name": "python",
   "nbconvert_exporter": "python",
   "pygments_lexer": "ipython3",
   "version": "3.7.6"
  }
 },
 "nbformat": 4,
 "nbformat_minor": 4
}
